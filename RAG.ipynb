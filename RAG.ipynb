{
 "cells": [
  {
   "cell_type": "code",
   "execution_count": null,
   "metadata": {},
   "outputs": [],
   "source": [
    "!pip install ragflow-sdk\n",
    "!pip install ragflow"
   ]
  },
  {
   "cell_type": "code",
   "execution_count": null,
   "metadata": {},
   "outputs": [],
   "source": [
    "from ragflow_sdk import RAGFlow\n",
    "\n",
    "client = RAGFlow(api_key='API_KEY', base_url=\"http://localhost:9380\")\n",
    "\n",
    "dataset = client.create_dataset(\n",
    "    name='financial_context',\n",
    "    description='All data needed to contextualize stock price movements',\n",
    "    embedding_model='BAAI/bge-large-zh-v1.5',\n",
    "    permission='me',\n",
    "    chunk_method='naive'\n",
    ")"
   ]
  },
  {
   "cell_type": "code",
   "execution_count": 9,
   "metadata": {},
   "outputs": [],
   "source": [
    "# Template prompt\n",
    "def stock_movement_prompt(symbol, month, year):\n",
    "    return [\n",
    "        {\"role\": \"system\", \"content\": \"You are a financial analyst assistant. Use only the documents provided.\"},\n",
    "        {\"role\": \"user\", \"content\": f\"Summarize key events that may explain why {symbol}'s stock moved in {month} {year}.\"}\n",
    "    ]"
   ]
  },
  {
   "cell_type": "code",
   "execution_count": null,
   "metadata": {},
   "outputs": [],
   "source": [
    "from openai import OpenAI\n",
    "\n",
    "chat_id = \"<your-chat-id>\"\n",
    "\n",
    "client = OpenAI(\n",
    "    api_key=\"API_KEY\",\n",
    "    base_url=f\"http://localhost:9380/api/v1/chats_openai/{chat_id}\"\n",
    ")\n",
    "\n",
    "response = client.chat.completions.create(\n",
    "    model=\"gpt-4\",\n",
    "    messages=stock_movement_prompt(\"AAPL\", \"Feb\", 2023),\n",
    "    stream=False\n",
    ")\n",
    "\n",
    "print(response.choices[0].message.content)\n"
   ]
  },
  {
   "cell_type": "code",
   "execution_count": null,
   "metadata": {},
   "outputs": [],
   "source": []
  }
 ],
 "metadata": {
  "kernelspec": {
   "display_name": "Python (langchain)",
   "language": "python",
   "name": "langchain"
  },
  "language_info": {
   "codemirror_mode": {
    "name": "ipython",
    "version": 3
   },
   "file_extension": ".py",
   "mimetype": "text/x-python",
   "name": "python",
   "nbconvert_exporter": "python",
   "pygments_lexer": "ipython3",
   "version": "3.12.2"
  }
 },
 "nbformat": 4,
 "nbformat_minor": 2
}
