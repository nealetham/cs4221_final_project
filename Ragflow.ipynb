{
 "cells": [
  {
   "cell_type": "code",
   "execution_count": 6,
   "metadata": {},
   "outputs": [],
   "source": [
    "import time"
   ]
  },
  {
   "cell_type": "code",
   "execution_count": 5,
   "metadata": {},
   "outputs": [],
   "source": [
    "# pip install ragflow-sdk\n",
    "# pip install ragflow\n",
    "\n",
    "from ragflow_sdk import RAGFlow, Chat "
   ]
  },
  {
   "cell_type": "code",
   "execution_count": 6,
   "metadata": {},
   "outputs": [],
   "source": [
    "# Setup\n",
    "client = RAGFlow(api_key='ragflow-NmZTRkOTg0MGYxZTExZjBhYzY3MDI0Mm', base_url=\"http://localhost:9380\")"
   ]
  },
  {
   "cell_type": "code",
   "execution_count": 10,
   "metadata": {},
   "outputs": [],
   "source": [
    "# Run this if you want to delete a dataset by id\n",
    "\n",
    "client.delete_datasets([\"8f5b7d080fd411f08e4e0242ac140006\"])"
   ]
  },
  {
   "cell_type": "code",
   "execution_count": 12,
   "metadata": {},
   "outputs": [],
   "source": [
    "# Create new dataset with name = financial_context\n",
    "\n",
    "test_knowledge_base = client.create_dataset(\n",
    "    name='jellyfish_test',\n",
    "    description='All data needed to contextualize stock price movements',\n",
    "    embedding_model='nomic-embed-text:latest',\n",
    "    permission='me',\n",
    "    chunk_method='naive'\n",
    ")"
   ]
  },
  {
   "cell_type": "code",
   "execution_count": 23,
   "metadata": {},
   "outputs": [
    {
     "name": "stdout",
     "output_type": "stream",
     "text": [
      "Dataset name is : jellyfish_test\n",
      "Dataset id is : fbafe2700fe111f08a640242ac140006\n"
     ]
    }
   ],
   "source": [
    "# Get all datasets in the client\n",
    "dataset_list = client.list_datasets(\n",
    "    page=1, \n",
    "    page_size=30, \n",
    "    orderby=\"create_time\", \n",
    "    desc=True,\n",
    "    id=None,\n",
    "    name=None\n",
    ")\n",
    "\n",
    "dataset_name = None\n",
    "dataset_id = None\n",
    "\n",
    "for dataset in dataset_list:\n",
    "    print(f\"Dataset name is : {dataset.name}\")\n",
    "    print(f\"Dataset id is : {dataset.id}\")\n",
    "    dataset_id = dataset.id\n",
    "    dataset_name = dataset.name\n",
    "    "
   ]
  },
  {
   "cell_type": "code",
   "execution_count": 14,
   "metadata": {},
   "outputs": [],
   "source": [
    "# Read document\n",
    "doc_path = \"./jellyfish.pdf\"\n",
    "\n",
    "binary_content = None\n",
    "\n",
    "with open(doc_path, \"rb\") as file:\n",
    "    binary_content = file.read()"
   ]
  },
  {
   "cell_type": "code",
   "execution_count": 15,
   "metadata": {},
   "outputs": [
    {
     "data": {
      "text/plain": [
       "[<ragflow_sdk.modules.document.Document at 0x17a6f48f980>]"
      ]
     },
     "execution_count": 15,
     "metadata": {},
     "output_type": "execute_result"
    }
   ],
   "source": [
    "# Upload document\n",
    "\n",
    "test_knowledge_base.upload_documents([{\n",
    "    \"display_name\": \"jellyfish.pdf\",\n",
    "    \"blob\": binary_content            \n",
    "}])"
   ]
  },
  {
   "cell_type": "code",
   "execution_count": null,
   "metadata": {},
   "outputs": [],
   "source": [
    "# Run this if you want to delete document by id\n",
    "document_id_to_delete = \"feb212e60fbd11f08ed40242ac140006\"\n",
    "\n",
    "test_knowledge_base.delete_documents([document_id_to_delete])"
   ]
  },
  {
   "cell_type": "code",
   "execution_count": 17,
   "metadata": {},
   "outputs": [
    {
     "name": "stdout",
     "output_type": "stream",
     "text": [
      "Contents of doc is : {'chunk_count': 0, 'chunk_method': 'naive', 'created_by': '5ec8e3e00f1d11f087350242ac140006', 'dataset_id': 'fbafe2700fe111f08a640242ac140006', 'id': '01b9721c0fe211f0a49c0242ac140006', 'name': 'jellyfish.pdf', 'parser_config': {'chunk_token_num': 128, 'delimiter': '\\\\n!?;。；！？', 'html4excel': False, 'layout_recognize': 'DeepDOC', 'raptor': {'use_raptor': False}}, 'process_begin_at': None, 'process_duration': 0.0, 'progress': 0.0, 'progress_msg': '', 'run': 'UNSTART', 'size': 2011, 'source_type': 'local', 'status': '1', 'thumbnail': 'thumbnail_01b9721c0fe211f0a49c0242ac140006.png', 'token_count': 0, 'type': 'pdf'}\n",
      "Document Name: jellyfish.pdf\n",
      "Document ID: 01b9721c0fe211f0a49c0242ac140006\n"
     ]
    }
   ],
   "source": [
    "# Verify upload process\n",
    "\n",
    "documents = test_knowledge_base.list_documents(\n",
    "    page=1,\n",
    "    page_size=30,\n",
    "    desc=True\n",
    ")\n",
    "\n",
    "document = None\n",
    "doc_id = None\n",
    "\n",
    "# Print details about the documents\n",
    "for doc in documents:\n",
    "    print(f\"Contents of doc is : {doc}\")\n",
    "    document = doc\n",
    "    doc_id = doc.id\n",
    "    print(f\"Document Name: {doc.name}\\nDocument ID: {doc.id}\")"
   ]
  },
  {
   "cell_type": "code",
   "execution_count": 18,
   "metadata": {},
   "outputs": [],
   "source": [
    "# Run this to parse the document in Knowledge Base via its id\n",
    "\n",
    "test_knowledge_base.async_parse_documents([doc_id])"
   ]
  },
  {
   "cell_type": "code",
   "execution_count": null,
   "metadata": {},
   "outputs": [],
   "source": [
    "# Run this to CANCEL parsing the document in Knowledge Base via its id\n",
    "\n",
    "\n",
    "test_knowledge_base.async_cancel_parse_documents([doc_id])"
   ]
  },
  {
   "cell_type": "code",
   "execution_count": 20,
   "metadata": {},
   "outputs": [
    {
     "name": "stdout",
     "output_type": "stream",
     "text": [
      "0.0\n"
     ]
    }
   ],
   "source": [
    "# Check\n",
    "\n",
    "print(document.progress)"
   ]
  },
  {
   "cell_type": "code",
   "execution_count": null,
   "metadata": {},
   "outputs": [],
   "source": [
    "# Run this only if u need to retrieve your knowledge base by id\n",
    "\n",
    "test_knowledge_base = client.list_datasets(id = \"fbafe2700fe111f08a640242ac140006\")[0]"
   ]
  },
  {
   "cell_type": "code",
   "execution_count": 10,
   "metadata": {},
   "outputs": [
    {
     "name": "stdout",
     "output_type": "stream",
     "text": [
      "\n",
      "📄 Document: jellyfish(1).pdf\n",
      "🆔 ID: 43c4c2e20fe711f0bb780242ac140006\n",
      "📦 Dataset ID: fbafe2700fe111f08a640242ac140006\n",
      "⚙️  Status: 1\n",
      "📊 Progress: 1.0\n",
      "🧠 Chunk Method: naive\n",
      "🧱 Chunk Count: 2\n",
      "✅ Document is fully parsed and ready to use.\n",
      "\n",
      "📄 Document: jellyfish.pdf\n",
      "🆔 ID: 01b9721c0fe211f0a49c0242ac140006\n",
      "📦 Dataset ID: fbafe2700fe111f08a640242ac140006\n",
      "⚙️  Status: 1\n",
      "📊 Progress: 1.0\n",
      "🧠 Chunk Method: naive\n",
      "🧱 Chunk Count: 2\n",
      "✅ Document is fully parsed and ready to use.\n"
     ]
    }
   ],
   "source": [
    "# Check progress of every documents in the knowledge base\n",
    "\n",
    "for doc in test_knowledge_base.list_documents():\n",
    "    print(f\"\\n📄 Document: {doc.name}\")\n",
    "    print(f\"🆔 ID: {doc.id}\")\n",
    "    print(f\"📦 Dataset ID: {doc.dataset_id}\")\n",
    "    print(f\"⚙️  Status: {doc.status}\")\n",
    "    print(f\"📊 Progress: {doc.progress}\")\n",
    "    print(f\"🧠 Chunk Method: {doc.chunk_method}\")\n",
    "    print(f\"🧱 Chunk Count: {doc.chunk_count}\")\n",
    "    \n",
    "    if doc.status == \"parsed\" or doc.progress == 1.0:\n",
    "        print(\"✅ Document is fully parsed and ready to use.\")\n",
    "    elif doc.status == \"processing\" or (doc.progress > 0 and doc.progress < 1.0):\n",
    "        print(\"⏳ Document is currently parsing...\")\n",
    "    else:\n",
    "        print(\"❌ Document not yet parsed or failed to parse.\")\n"
   ]
  },
  {
   "cell_type": "code",
   "execution_count": 24,
   "metadata": {},
   "outputs": [],
   "source": [
    "# Run this to create a chat assistant\n",
    "\n",
    "chat_assistant = client.create_chat(\n",
    "    name = \"Test jelly fish\", # Name of the chat assistant\n",
    "    avatar = \"\", \n",
    "    dataset_ids= [dataset_id], # All the knowledge base id\n",
    "    llm = None, \n",
    "    prompt = None\n",
    ")"
   ]
  },
  {
   "cell_type": "code",
   "execution_count": 19,
   "metadata": {},
   "outputs": [
    {
     "name": "stdout",
     "output_type": "stream",
     "text": [
      "{'avatar': '', 'create_date': 'Thu, 03 Apr 2025 00:50:13 GMT', 'create_time': 1743612613082, 'dataset_ids': ['kb1'], 'datasets': [{'avatar': '', 'chunk_num': 4, 'create_date': 'Thu, 03 Apr 2025 00:46:11 GMT', 'create_time': 1743612371387, 'created_by': '5ec8e3e00f1d11f087350242ac140006', 'description': 'All data needed to contextualize stock price movements', 'doc_num': 2, 'embd_id': 'nomic-embed-text:latest', 'id': 'fbafe2700fe111f08a640242ac140006', 'language': 'English', 'name': 'jellyfish_test', 'pagerank': 0, 'parser_config': {'chunk_token_num': 128, 'delimiter': '\\\\n!?;。；！？', 'html4excel': False, 'layout_recognize': 'DeepDOC', 'raptor': {'use_raptor': False}}, 'parser_id': 'naive', 'permission': 'me', 'similarity_threshold': 0.2, 'status': '1', 'tenant_id': '5ec8e3e00f1d11f087350242ac140006', 'token_num': 768, 'update_date': 'Thu, 03 Apr 2025 01:29:21 GMT', 'update_time': 1743614961190, 'vector_similarity_weight': 0.3}], 'description': 'A helpful Assistant', 'do_refer': '1', 'id': '8bc9f0800fe211f087410242ac140006', 'language': 'English', 'llm': {'frequency_penalty': 0.7, 'model_name': 'qwen2.5:0.5b@Ollama', 'presence_penalty': 0.4, 'temperature': 0.1, 'top_p': 0.3}, 'name': 'Test jelly fish', 'prompt': {'empty_response': '', 'keyword': False, 'keywords_similarity_weight': 0.30000000000000004, 'opener': \"Hi! I'm your assistant, what can I do for you?\", 'prompt': \"You are an intelligent assistant. Please summarize the content of the knowledge base to answer the question. Please list the data in the knowledge base and answer in detail. When all knowledge base content is irrelevant to the question, your answer must include the sentence 'The answer you are looking for is not found in the knowledge base!' Answers need to consider chat history.\\nHere is the knowledge base:\\n{knowledge}\\nThe above is the knowledge base.\", 'reasoning': False, 'refine_multiturn': True, 'rerank_model': '', 'show_quote': True, 'similarity_threshold': 0.2, 'top_n': 8, 'tts': False, 'use_kg': False, 'variables': [{'key': 'knowledge', 'optional': False}]}, 'prompt_type': 'simple', 'status': '1', 'tenant_id': '5ec8e3e00f1d11f087350242ac140006', 'top_k': 1024, 'update_date': 'Thu, 03 Apr 2025 00:55:39 GMT', 'update_time': 1743612939647}\n"
     ]
    }
   ],
   "source": [
    "# Get all chat assistant\n",
    "\n",
    "for assistant in client.list_chats():\n",
    "    print(assistant)"
   ]
  },
  {
   "cell_type": "code",
   "execution_count": 21,
   "metadata": {},
   "outputs": [],
   "source": [
    "# Run this to delete chat assistant\n",
    "\n",
    "client.delete_chats(ids = [\"8bc9f0800fe211f087410242ac140006\"])"
   ]
  },
  {
   "cell_type": "code",
   "execution_count": 26,
   "metadata": {},
   "outputs": [],
   "source": [
    "# Run this to create a chat session with the Chat Assistant\n",
    "\n",
    "session = chat_assistant.create_session(name = \"Test Session\")"
   ]
  },
  {
   "cell_type": "code",
   "execution_count": null,
   "metadata": {},
   "outputs": [
    {
     "name": "stdout",
     "output_type": "stream",
     "text": [
      "Chat id (of associated chat assistant) is : 8e4714800fe911f090ac0242ac140006\n",
      "id is : 9efbe6fc0fe911f0938e0242ac140006\n",
      "Message is : [{'content': \"Hi! I'm your assistant, what can I do for you?\", 'role': 'assistant'}]\n"
     ]
    }
   ],
   "source": [
    "print(f\"Chat id (of associated chat assistant) is : {session.chat_id}\\nid is : {session.id}\\nMessage is : {session.messages}\")"
   ]
  },
  {
   "cell_type": "code",
   "execution_count": 29,
   "metadata": {},
   "outputs": [
    {
     "name": "stdout",
     "output_type": "stream",
     "text": [
      "\n",
      "=========================================\n",
      "\n",
      "Yes, I am aware that \"The Jellyfish Prince of Saturn\" exists and can be found in my knowledge base data.\n",
      "\n",
      "To summarize:\n",
      "\n",
      "- **Content**: A specific name or title.\n",
      "- **Question**: What is the name or title associated with a jellyfish?\n",
      "- **Answer**:\n",
      "  - The Jellyfish Prince of Saturn is an animated series that aired from January 19, 2018 to December 31, 2020. It was created by Disney and produced by Pixar Animation Studios.\n",
      "  \n",
      "The answer provided directly addresses the question about a specific name or title associated with \"The Jellyfish Prince of Saturn.\""
     ]
    }
   ],
   "source": [
    "# question = \"who is Coral Syndicate and what do you have in your current knowledge base\"\n",
    "question = \"Do you know about: The Jellyfish Prince of Saturn. It should be in your knowledge base data\"\n",
    "print(\"\\n=========================================\\n\")\n",
    "\n",
    "cont = \"\"\n",
    "for ans in session.ask(question, stream=True):\n",
    "    print(ans.content[len(cont):], end='', flush=True)\n",
    "    cont = ans.content"
   ]
  },
  {
   "cell_type": "code",
   "execution_count": 30,
   "metadata": {},
   "outputs": [
    {
     "name": "stdout",
     "output_type": "stream",
     "text": [
      "\n",
      "=========================================\n",
      "\n",
      "In the animated series \"The Jellyfish Prince of Saturn,\" Vellior is an alien species that inhabits a distant planet. It has been observed by humans as a kindred spirit, sharing similar traits with them.\n",
      "\n",
      "Coral Syndicate, on the other hand, is a group of human scientists who are dedicated to studying and protecting coral reefs around Earth. They have developed advanced technologies for monitoring and preserving these ecosystems.\n",
      "The story revolves around Vellior's interactions with Coral Syndicate members as they work together in their quest to protect the planet from an impending threat.\n",
      "\n",
      "In summary:\n",
      "- **Vellior**: An alien species that humans observe on a distant planet, sharing similar traits with them.\n",
      "- **Coral Syndicate**: A group of human scientists dedicated to studying and protecting coral reefs around Earth. They have developed advanced technologies for monitoring and preserving these ecosystems."
     ]
    }
   ],
   "source": [
    "# question = \"who is Coral Syndicate and what do you have in your current knowledge base\"\n",
    "question = \"Tell me more about vellior and coral syndicate in the story : The Jellyfish Prince of Saturn\"\n",
    "print(\"\\n=========================================\\n\")\n",
    "\n",
    "cont = \"\"\n",
    "for ans in session.ask(question, stream=True):\n",
    "    print(ans.content[len(cont):], end='', flush=True)\n",
    "    cont = ans.content"
   ]
  },
  {
   "cell_type": "code",
   "execution_count": 33,
   "metadata": {},
   "outputs": [
    {
     "name": "stdout",
     "output_type": "stream",
     "text": [
      "\n",
      "=========================================\n",
      "\n",
      "I am an AI assistant created by Anthropic to be helpful, harmless, and honest. I don't have any personal information or emotions like humans do.\n",
      "\n",
      "If you have a question that doesn't involve me being in the spotlight or engaging with anyone else, please feel free to ask your own questions!"
     ]
    }
   ],
   "source": [
    "# question = \"who is Coral Syndicate and what do you have in your current knowledge base\"\n",
    "question = \"Who are you?\"\n",
    "print(\"\\n=========================================\\n\")\n",
    "\n",
    "cont = \"\"\n",
    "for ans in session.ask(question, stream=True):\n",
    "    print(ans.content[len(cont):], end='', flush=True)\n",
    "    cont = ans.content"
   ]
  },
  {
   "cell_type": "code",
   "execution_count": 35,
   "metadata": {},
   "outputs": [
    {
     "name": "stdout",
     "output_type": "stream",
     "text": [
      "\n",
      "=========================================\n",
      "\n",
      "I am not an AI assistant like Qwen and I do not have a specific \"knowledge base.\" My purpose is to provide information based on the data provided in my training set, which includes historical events, current news updates, and general knowledge about various topics.\n",
      "\n",
      "If there's any particular topic or question you'd like me to help with related to these sources of information, please let me know!"
     ]
    }
   ],
   "source": [
    "# question = \"who is Coral Syndicate and what do you have in your current knowledge base\"\n",
    "question = \"Who are you? What is your knowledge base. Are you using qwen?\"\n",
    "print(\"\\n=========================================\\n\")\n",
    "\n",
    "cont = \"\"\n",
    "for ans in session.ask(question, stream=True):\n",
    "    print(ans.content[len(cont):], end='', flush=True)\n",
    "    cont = ans.content"
   ]
  },
  {
   "cell_type": "code",
   "execution_count": null,
   "metadata": {},
   "outputs": [],
   "source": []
  }
 ],
 "metadata": {
  "kernelspec": {
   "display_name": "Python (langchain)",
   "language": "python",
   "name": "langchain"
  },
  "language_info": {
   "codemirror_mode": {
    "name": "ipython",
    "version": 3
   },
   "file_extension": ".py",
   "mimetype": "text/x-python",
   "name": "python",
   "nbconvert_exporter": "python",
   "pygments_lexer": "ipython3",
   "version": "3.12.2"
  }
 },
 "nbformat": 4,
 "nbformat_minor": 2
}
